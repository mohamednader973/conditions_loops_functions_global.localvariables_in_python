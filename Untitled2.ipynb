{
  "nbformat": 4,
  "nbformat_minor": 0,
  "metadata": {
    "colab": {
      "name": "Untitled2.ipynb",
      "provenance": [],
      "authorship_tag": "ABX9TyPBNZBBWjddWXFEI7JvcAGh",
      "include_colab_link": true
    },
    "kernelspec": {
      "name": "python3",
      "display_name": "Python 3"
    }
  },
  "cells": [
    {
      "cell_type": "markdown",
      "metadata": {
        "id": "view-in-github",
        "colab_type": "text"
      },
      "source": [
        "<a href=\"https://colab.research.google.com/github/mohamednader973/conditions_loops_functions_global.localvariables_in_python/blob/main/Untitled2.ipynb\" target=\"_parent\"><img src=\"https://colab.research.google.com/assets/colab-badge.svg\" alt=\"Open In Colab\"/></a>"
      ]
    },
    {
      "cell_type": "markdown",
      "metadata": {
        "id": "fGXChUNWv72w"
      },
      "source": [
        "conditions and Branching"
      ]
    },
    {
      "cell_type": "code",
      "metadata": {
        "colab": {
          "base_uri": "https://localhost:8080/"
        },
        "id": "s-dTO7hGv5UT",
        "outputId": "31374891-179c-4f79-bc24-17739dcbacd2"
      },
      "source": [
        "x=5\r\n",
        "if (x>5):\r\n",
        "  print(\"greater!\")\r\n",
        "elif (x==5):\r\n",
        "  print(\"equal\")\r\n",
        "else :\r\n",
        "  print(\"smaller\")\r\n"
      ],
      "execution_count": null,
      "outputs": [
        {
          "output_type": "stream",
          "text": [
            "equal\n"
          ],
          "name": "stdout"
        }
      ]
    },
    {
      "cell_type": "code",
      "metadata": {
        "colab": {
          "base_uri": "https://localhost:8080/"
        },
        "id": "KI_BPSVHwmoN",
        "outputId": "9d61f75b-6c38-4079-8916-29641a5d4349"
      },
      "source": [
        "y=7\r\n",
        "if (y==5):\r\n",
        "  print(\"greater!\")\r\n",
        "else:\r\n",
        "  print(\"not equal\")\r\n"
      ],
      "execution_count": null,
      "outputs": [
        {
          "output_type": "stream",
          "text": [
            "not equal\n"
          ],
          "name": "stdout"
        }
      ]
    },
    {
      "cell_type": "code",
      "metadata": {
        "colab": {
          "base_uri": "https://localhost:8080/"
        },
        "id": "annXBGGnw3IG",
        "outputId": "ec0b171d-df77-45b0-c1ad-00123378a70f"
      },
      "source": [
        "z=9\r\n",
        "if (y==9):\r\n",
        "  print(\"greater!\")\r\n",
        "else:\r\n",
        "  print(\"not equal\")\r\n",
        "print(\"move on:\",z)\r\n"
      ],
      "execution_count": null,
      "outputs": [
        {
          "output_type": "stream",
          "text": [
            "not equal\n",
            "move on: 9\n"
          ],
          "name": "stdout"
        }
      ]
    },
    {
      "cell_type": "markdown",
      "metadata": {
        "id": "dnZFNxfqyUQr"
      },
      "source": [
        "nested if"
      ]
    },
    {
      "cell_type": "code",
      "metadata": {
        "colab": {
          "base_uri": "https://localhost:8080/"
        },
        "id": "uo2vPjHQxm2Q",
        "outputId": "c4a078f7-b639-461e-edba-186f8c53b710"
      },
      "source": [
        "string=\"mohammed\"\r\n",
        "if (string==\"omar\"):\r\n",
        "  print(\"equal\")\r\n",
        "else :\r\n",
        "  print(\"not equal\")\r\n",
        "  if (len(string)>4):\r\n",
        "    print(\"too long\")\r\n",
        "  else :\r\n",
        "    print(\"too short\")"
      ],
      "execution_count": null,
      "outputs": [
        {
          "output_type": "stream",
          "text": [
            "not equal\n",
            "too long\n"
          ],
          "name": "stdout"
        }
      ]
    },
    {
      "cell_type": "markdown",
      "metadata": {
        "id": "Ymgb_LOGy8HK"
      },
      "source": [
        "logic operators "
      ]
    },
    {
      "cell_type": "code",
      "metadata": {
        "colab": {
          "base_uri": "https://localhost:8080/"
        },
        "id": "BfKxLY9RylG6",
        "outputId": "7f08fc8c-38f3-474a-feee-084539d8dc98"
      },
      "source": [
        "x=70\r\n",
        "y=90\r\n",
        "z=120\r\n",
        "if (z>x and z>y):\r\n",
        "  print(\"ok\")"
      ],
      "execution_count": null,
      "outputs": [
        {
          "output_type": "stream",
          "text": [
            "ok\n"
          ],
          "name": "stdout"
        }
      ]
    },
    {
      "cell_type": "code",
      "metadata": {
        "colab": {
          "base_uri": "https://localhost:8080/"
        },
        "id": "NvGNco1my9LN",
        "outputId": "9ed510a3-0c38-4347-bba2-292ed0b64947"
      },
      "source": [
        "x=70\r\n",
        "y=90\r\n",
        "z=80\r\n",
        "if (z>x or z>y):\r\n",
        "  print(\"ok\")"
      ],
      "execution_count": null,
      "outputs": [
        {
          "output_type": "stream",
          "text": [
            "ok\n"
          ],
          "name": "stdout"
        }
      ]
    },
    {
      "cell_type": "code",
      "metadata": {
        "colab": {
          "base_uri": "https://localhost:8080/"
        },
        "id": "RoJUQvMOzCQy",
        "outputId": "8e67b81e-aa30-4b48-cdfc-c7d496b3cc9a"
      },
      "source": [
        "x=70\r\n",
        "not x"
      ],
      "execution_count": null,
      "outputs": [
        {
          "output_type": "execute_result",
          "data": {
            "text/plain": [
              "False"
            ]
          },
          "metadata": {
            "tags": []
          },
          "execution_count": 9
        }
      ]
    },
    {
      "cell_type": "code",
      "metadata": {
        "colab": {
          "base_uri": "https://localhost:8080/"
        },
        "id": "dYSC1EdU09Sf",
        "outputId": "b269259a-77af-4a16-b7b1-a724abdff963"
      },
      "source": [
        "if not (x!=70):\r\n",
        "  print(\"yes\")"
      ],
      "execution_count": null,
      "outputs": [
        {
          "output_type": "stream",
          "text": [
            "yes\n"
          ],
          "name": "stdout"
        }
      ]
    },
    {
      "cell_type": "markdown",
      "metadata": {
        "id": "vqSaZN8m0RPU"
      },
      "source": [
        "comparing characters\r\n",
        "Compares ascii code"
      ]
    },
    {
      "cell_type": "code",
      "metadata": {
        "colab": {
          "base_uri": "https://localhost:8080/"
        },
        "id": "ZV7eSsj10TKE",
        "outputId": "6be6cbf1-4d40-40ca-dece-02fb0f20905b"
      },
      "source": [
        "'B'<'A'"
      ],
      "execution_count": null,
      "outputs": [
        {
          "output_type": "execute_result",
          "data": {
            "text/plain": [
              "False"
            ]
          },
          "metadata": {
            "tags": []
          },
          "execution_count": 13
        }
      ]
    },
    {
      "cell_type": "code",
      "metadata": {
        "colab": {
          "base_uri": "https://localhost:8080/"
        },
        "id": "n6LSfUQe0b6k",
        "outputId": "0d9d3ea9-755e-41ea-dc72-2d2e62e9ba50"
      },
      "source": [
        "'*'!='&'"
      ],
      "execution_count": null,
      "outputs": [
        {
          "output_type": "execute_result",
          "data": {
            "text/plain": [
              "True"
            ]
          },
          "metadata": {
            "tags": []
          },
          "execution_count": 12
        }
      ]
    },
    {
      "cell_type": "code",
      "metadata": {
        "colab": {
          "base_uri": "https://localhost:8080/"
        },
        "id": "uOlP3Rrn0ntW",
        "outputId": "12a8072a-6d60-4d68-a781-6bd007cadc81"
      },
      "source": [
        "\"BA\">\"AB\" #first letter takes precedance"
      ],
      "execution_count": null,
      "outputs": [
        {
          "output_type": "execute_result",
          "data": {
            "text/plain": [
              "True"
            ]
          },
          "metadata": {
            "tags": []
          },
          "execution_count": 14
        }
      ]
    },
    {
      "cell_type": "markdown",
      "metadata": {
        "id": "1LdsnN60zxDs"
      },
      "source": [
        "Loops "
      ]
    },
    {
      "cell_type": "code",
      "metadata": {
        "colab": {
          "base_uri": "https://localhost:8080/"
        },
        "id": "TScJCaVEzyJA",
        "outputId": "0ed10479-fea7-46bf-c262-85e9bca75e4f"
      },
      "source": [
        "for i in range(0,10):\r\n",
        "  print(i)"
      ],
      "execution_count": null,
      "outputs": [
        {
          "output_type": "stream",
          "text": [
            "0\n",
            "1\n",
            "2\n",
            "3\n",
            "4\n",
            "5\n",
            "6\n",
            "7\n",
            "8\n",
            "9\n"
          ],
          "name": "stdout"
        }
      ]
    },
    {
      "cell_type": "code",
      "metadata": {
        "colab": {
          "base_uri": "https://localhost:8080/"
        },
        "id": "JzXWgt7z1gA4",
        "outputId": "0bd1d2da-fd02-472a-e862-ee323c4f4b04"
      },
      "source": [
        "list1=[1,2,3,4,5,6,7,8,9]\r\n",
        "for i in range(0,9):\r\n",
        "  list1[i]=1\r\n",
        "list1"
      ],
      "execution_count": null,
      "outputs": [
        {
          "output_type": "execute_result",
          "data": {
            "text/plain": [
              "[1, 1, 1, 1, 1, 1, 1, 1, 1]"
            ]
          },
          "metadata": {
            "tags": []
          },
          "execution_count": 17
        }
      ]
    },
    {
      "cell_type": "code",
      "metadata": {
        "colab": {
          "base_uri": "https://localhost:8080/"
        },
        "id": "p-NPNmL_14S7",
        "outputId": "386fa6f0-9e83-4867-bdc9-51f4b4c083f9"
      },
      "source": [
        "list2=[\"red\",\"black\",\"yellow\",\"blue\"]\r\n",
        "for j in list2:\r\n",
        "  print(j)"
      ],
      "execution_count": null,
      "outputs": [
        {
          "output_type": "stream",
          "text": [
            "red\n",
            "black\n",
            "yellow\n",
            "blue\n"
          ],
          "name": "stdout"
        }
      ]
    },
    {
      "cell_type": "markdown",
      "metadata": {
        "id": "nJy5nZ3j2bco"
      },
      "source": [
        "enumarate"
      ]
    },
    {
      "cell_type": "code",
      "metadata": {
        "colab": {
          "base_uri": "https://localhost:8080/"
        },
        "id": "VP-olcS52dV2",
        "outputId": "7bd6afbe-1f82-4434-c279-84c7c4ab47df"
      },
      "source": [
        "for k,listelements in enumerate(list2):\r\n",
        "  print(k)\r\n",
        "  print(listelements)"
      ],
      "execution_count": null,
      "outputs": [
        {
          "output_type": "stream",
          "text": [
            "0\n",
            "red\n",
            "1\n",
            "black\n",
            "2\n",
            "yellow\n",
            "3\n",
            "blue\n"
          ],
          "name": "stdout"
        }
      ]
    },
    {
      "cell_type": "markdown",
      "metadata": {
        "id": "-YDxE_yf25Ot"
      },
      "source": [
        "while loop"
      ]
    },
    {
      "cell_type": "code",
      "metadata": {
        "colab": {
          "base_uri": "https://localhost:8080/"
        },
        "id": "sPpNK8Pm26TC",
        "outputId": "115bf943-4743-4330-adf8-6cac8c3b65a5"
      },
      "source": [
        "u=9\r\n",
        "while(u>0):\r\n",
        "   print(u)\r\n",
        "   u=u-1\r\n",
        "    "
      ],
      "execution_count": null,
      "outputs": [
        {
          "output_type": "stream",
          "text": [
            "9\n",
            "8\n",
            "7\n",
            "6\n",
            "5\n",
            "4\n",
            "3\n",
            "2\n",
            "1\n"
          ],
          "name": "stdout"
        }
      ]
    },
    {
      "cell_type": "code",
      "metadata": {
        "colab": {
          "base_uri": "https://localhost:8080/"
        },
        "id": "23citQHC5Oy2",
        "outputId": "960360cb-847d-492e-a9a3-b2b5e91dff31"
      },
      "source": [
        "range(9)"
      ],
      "execution_count": null,
      "outputs": [
        {
          "output_type": "execute_result",
          "data": {
            "text/plain": [
              "range(0, 9)"
            ]
          },
          "metadata": {
            "tags": []
          },
          "execution_count": 25
        }
      ]
    },
    {
      "cell_type": "markdown",
      "metadata": {
        "id": "iyZXZtls69L3"
      },
      "source": [
        "Functions "
      ]
    },
    {
      "cell_type": "markdown",
      "metadata": {
        "id": "qjJKDy5W7T9t"
      },
      "source": [
        "built in functions \r\n",
        "1- len()\r\n",
        "2-sum()\r\n",
        "3-sorted()\r\n",
        "4-sort()"
      ]
    },
    {
      "cell_type": "code",
      "metadata": {
        "colab": {
          "base_uri": "https://localhost:8080/"
        },
        "id": "Anqf7ul06-lO",
        "outputId": "d8b8ba8b-b44e-40c9-8d7e-8bfc92cb6060"
      },
      "source": [
        "list3=[1,4,2,5,6,8,10]\r\n",
        "sum(list3)"
      ],
      "execution_count": null,
      "outputs": [
        {
          "output_type": "execute_result",
          "data": {
            "text/plain": [
              "36"
            ]
          },
          "metadata": {
            "tags": []
          },
          "execution_count": 27
        }
      ]
    },
    {
      "cell_type": "markdown",
      "metadata": {
        "id": "KWZxQcv070wL"
      },
      "source": [
        "difference between sorted(),sort()"
      ]
    },
    {
      "cell_type": "code",
      "metadata": {
        "colab": {
          "base_uri": "https://localhost:8080/"
        },
        "id": "SSlKU8dP79xR",
        "outputId": "8bc87495-26ed-45b5-bdf6-b01ebb4004a5"
      },
      "source": [
        "sorted(list3) # list3 is not changed"
      ],
      "execution_count": null,
      "outputs": [
        {
          "output_type": "execute_result",
          "data": {
            "text/plain": [
              "[1, 2, 4, 5, 6, 8, 10]"
            ]
          },
          "metadata": {
            "tags": []
          },
          "execution_count": 28
        }
      ]
    },
    {
      "cell_type": "code",
      "metadata": {
        "colab": {
          "base_uri": "https://localhost:8080/"
        },
        "id": "dTRlzfWA8FZk",
        "outputId": "b2e9d46d-7ec8-4b7c-ad9b-50a291884f36"
      },
      "source": [
        "list3"
      ],
      "execution_count": null,
      "outputs": [
        {
          "output_type": "execute_result",
          "data": {
            "text/plain": [
              "[1, 4, 2, 5, 6, 8, 10]"
            ]
          },
          "metadata": {
            "tags": []
          },
          "execution_count": 29
        }
      ]
    },
    {
      "cell_type": "code",
      "metadata": {
        "id": "VI_Mw8EE8LzR"
      },
      "source": [
        "list3.sort() #sort is a method and sorted is a function"
      ],
      "execution_count": null,
      "outputs": []
    },
    {
      "cell_type": "code",
      "metadata": {
        "colab": {
          "base_uri": "https://localhost:8080/"
        },
        "id": "cwqU1fFj8UA5",
        "outputId": "3bcf30d9-6801-41da-8e72-eb986272068d"
      },
      "source": [
        "list3 #list is changed"
      ],
      "execution_count": null,
      "outputs": [
        {
          "output_type": "execute_result",
          "data": {
            "text/plain": [
              "[1, 2, 4, 5, 6, 8, 10]"
            ]
          },
          "metadata": {
            "tags": []
          },
          "execution_count": 33
        }
      ]
    },
    {
      "cell_type": "code",
      "metadata": {
        "id": "EyH0BFFN8p6t"
      },
      "source": [
        "def add(a,b):\r\n",
        "  result=a+b\r\n",
        "  return result"
      ],
      "execution_count": null,
      "outputs": []
    },
    {
      "cell_type": "code",
      "metadata": {
        "colab": {
          "base_uri": "https://localhost:8080/"
        },
        "id": "Go2Jbbpr80r5",
        "outputId": "37d4ea4c-7ea0-41c6-8df1-63bbd596d0cd"
      },
      "source": [
        "add(4,5)"
      ],
      "execution_count": null,
      "outputs": [
        {
          "output_type": "execute_result",
          "data": {
            "text/plain": [
              "9"
            ]
          },
          "metadata": {
            "tags": []
          },
          "execution_count": 35
        }
      ]
    },
    {
      "cell_type": "code",
      "metadata": {
        "colab": {
          "base_uri": "https://localhost:8080/"
        },
        "id": "shGsV5v_9HuI",
        "outputId": "4bbcee5d-2ce9-4f54-f31f-dd4f55d0f7e5"
      },
      "source": [
        "help(add)"
      ],
      "execution_count": null,
      "outputs": [
        {
          "output_type": "stream",
          "text": [
            "Help on function add in module __main__:\n",
            "\n",
            "add(a, b)\n",
            "\n"
          ],
          "name": "stdout"
        }
      ]
    },
    {
      "cell_type": "code",
      "metadata": {
        "colab": {
          "base_uri": "https://localhost:8080/",
          "height": 35
        },
        "id": "7ABKRP-o9T5l",
        "outputId": "1dc828bd-4611-4b51-b734-c2142bf178b9"
      },
      "source": [
        "add(\"mohamed\",\"nader\")"
      ],
      "execution_count": null,
      "outputs": [
        {
          "output_type": "execute_result",
          "data": {
            "application/vnd.google.colaboratory.intrinsic+json": {
              "type": "string"
            },
            "text/plain": [
              "'mohamednader'"
            ]
          },
          "metadata": {
            "tags": []
          },
          "execution_count": 37
        }
      ]
    },
    {
      "cell_type": "code",
      "metadata": {
        "id": "CSru-V1i9Yxh"
      },
      "source": [
        "def multi(c,d):\r\n",
        "  result=c*d\r\n",
        "  return result"
      ],
      "execution_count": null,
      "outputs": []
    },
    {
      "cell_type": "code",
      "metadata": {
        "colab": {
          "base_uri": "https://localhost:8080/",
          "height": 35
        },
        "id": "CeI-tN3T9gbg",
        "outputId": "8692fbd9-8db3-400d-bc76-260cd3ed8c71"
      },
      "source": [
        "multi(2,\"ahmed\")"
      ],
      "execution_count": null,
      "outputs": [
        {
          "output_type": "execute_result",
          "data": {
            "application/vnd.google.colaboratory.intrinsic+json": {
              "type": "string"
            },
            "text/plain": [
              "'ahmedahmed'"
            ]
          },
          "metadata": {
            "tags": []
          },
          "execution_count": 40
        }
      ]
    },
    {
      "cell_type": "code",
      "metadata": {
        "id": "CvwQPuGC9xTG"
      },
      "source": [
        "def printing():\r\n",
        "  print(\"Deutschland\")"
      ],
      "execution_count": null,
      "outputs": []
    },
    {
      "cell_type": "code",
      "metadata": {
        "colab": {
          "base_uri": "https://localhost:8080/"
        },
        "id": "dGLtW1pe93wn",
        "outputId": "5ba04531-7a04-4432-d8c0-30095656f1f4"
      },
      "source": [
        "printing()"
      ],
      "execution_count": null,
      "outputs": [
        {
          "output_type": "stream",
          "text": [
            "Deutschland\n"
          ],
          "name": "stdout"
        }
      ]
    },
    {
      "cell_type": "code",
      "metadata": {
        "colab": {
          "base_uri": "https://localhost:8080/"
        },
        "id": "aplzJEhj-FS7",
        "outputId": "d478bfc6-a01f-4525-f667-360b3ad9e155"
      },
      "source": [
        "def NoWork():\r\n",
        "  pass\r\n",
        "print(NoWork())"
      ],
      "execution_count": null,
      "outputs": [
        {
          "output_type": "stream",
          "text": [
            "None\n"
          ],
          "name": "stdout"
        }
      ]
    },
    {
      "cell_type": "code",
      "metadata": {
        "colab": {
          "base_uri": "https://localhost:8080/"
        },
        "id": "l9duoVoT-kot",
        "outputId": "caa2cd4b-1570-469f-b02a-8618f1a22e6e"
      },
      "source": [
        "def printlist(lis):\r\n",
        "  for i in lis:\r\n",
        "    print(\"element:\",i)\r\n",
        "printlist([1,2,3,4,5,\"hi\"])"
      ],
      "execution_count": null,
      "outputs": [
        {
          "output_type": "stream",
          "text": [
            "element: 1\n",
            "element: 2\n",
            "element: 3\n",
            "element: 4\n",
            "element: 5\n",
            "element: hi\n"
          ],
          "name": "stdout"
        }
      ]
    },
    {
      "cell_type": "markdown",
      "metadata": {
        "id": "qdhybV6WAOZ2"
      },
      "source": [
        "Local scope vs global scope"
      ]
    },
    {
      "cell_type": "code",
      "metadata": {
        "colab": {
          "base_uri": "https://localhost:8080/"
        },
        "id": "8V5aoIAcCsJO",
        "outputId": "b76e9c48-8734-4fc2-8051-2da8e137deb2"
      },
      "source": [
        "\r\n",
        "def AddDC(y):\r\n",
        "  f=y+\"DC\"\r\n",
        "  print(f)\r\n",
        "  return (f)\r\n",
        "\r\n",
        "f=\"AC\"\r\n",
        "z=AddDC(f)\r\n",
        "print(f)"
      ],
      "execution_count": 6,
      "outputs": [
        {
          "output_type": "stream",
          "text": [
            "ACDC\n",
            "AC\n"
          ],
          "name": "stdout"
        }
      ]
    },
    {
      "cell_type": "code",
      "metadata": {
        "colab": {
          "base_uri": "https://localhost:8080/"
        },
        "id": "pBA5l9nRdaSW",
        "outputId": "9278a16b-e593-474b-b85e-82cc66650ca2"
      },
      "source": [
        "def thriller():\r\n",
        "  date=1982\r\n",
        "  return date\r\n",
        "\r\n",
        "print(thriller())\r\n",
        "date=125\r\n",
        "print(date)"
      ],
      "execution_count": 7,
      "outputs": [
        {
          "output_type": "stream",
          "text": [
            "1982\n",
            "125\n"
          ],
          "name": "stdout"
        }
      ]
    },
    {
      "cell_type": "code",
      "metadata": {
        "colab": {
          "base_uri": "https://localhost:8080/"
        },
        "id": "mac4ugbDdy2P",
        "outputId": "14e3cdad-2749-4b96-dcdd-b412a5ebc473"
      },
      "source": [
        "def func(y):\r\n",
        "  print(rating)\r\n",
        "  return(rating+y)\r\n",
        "rating=9\r\n",
        "z=func(1)\r\n",
        "print(rating) \r\n",
        "print(z) "
      ],
      "execution_count": 9,
      "outputs": [
        {
          "output_type": "stream",
          "text": [
            "9\n",
            "9\n",
            "10\n"
          ],
          "name": "stdout"
        }
      ]
    },
    {
      "cell_type": "code",
      "metadata": {
        "colab": {
          "base_uri": "https://localhost:8080/"
        },
        "id": "JCwl2Bp1eQu8",
        "outputId": "505a09bc-537f-4b17-c0df-83cbe50ea5ee"
      },
      "source": [
        "def pinkfloyd():\r\n",
        "  global claimedsales\r\n",
        "  claimedsales=45\r\n",
        "  return claimedsales\r\n",
        "#pinkfloyd()\r\n",
        "print(claimedsales)"
      ],
      "execution_count": 13,
      "outputs": [
        {
          "output_type": "stream",
          "text": [
            "45\n"
          ],
          "name": "stdout"
        }
      ]
    }
  ]
}